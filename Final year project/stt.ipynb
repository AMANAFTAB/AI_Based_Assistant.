{
 "cells": [
  {
   "cell_type": "code",
   "execution_count": 1,
   "id": "2178504a",
   "metadata": {
    "scrolled": true
   },
   "outputs": [],
   "source": [
    "# pip install faster-whisper"
   ]
  },
  {
   "cell_type": "code",
   "execution_count": 2,
   "id": "c6a92598",
   "metadata": {},
   "outputs": [],
   "source": [
    "# pip install keyboard\n"
   ]
  },
  {
   "cell_type": "code",
   "execution_count": 3,
   "id": "aee9dd1e-1986-4ac3-85fb-ec6a48c2ee96",
   "metadata": {},
   "outputs": [],
   "source": [
    "# pip install sounddevice"
   ]
  },
  {
   "cell_type": "code",
   "execution_count": 4,
   "id": "5ab79914",
   "metadata": {},
   "outputs": [],
   "source": [
    "import sounddevice as sd\n",
    "import numpy as np\n",
    "import keyboard\n",
    "import wave\n",
    "import tempfile\n",
    "from faster_whisper import WhisperModel"
   ]
  },
  {
   "cell_type": "code",
   "execution_count": 5,
   "id": "5a2401cf",
   "metadata": {},
   "outputs": [],
   "source": [
    "def record_audio(sample_rate=16000):\n",
    "    print(\"Recording... Press any key to stop.\")\n",
    "    audio_data = []\n",
    "    \n",
    "    # Callback function to append audio data when available\n",
    "    def callback(indata, frames, time, status):\n",
    "        if status:\n",
    "            print(status)\n",
    "        audio_data.append(indata.copy())\n",
    "    \n",
    "    # Start the audio stream\n",
    "    with sd.InputStream(samplerate=sample_rate, channels=1, dtype='float32', callback=callback):\n",
    "        keyboard.wait('enter')  # Wait for any key press to stop recording\n",
    "    \n",
    "    # Concatenate recorded audio data\n",
    "    audio_data = np.concatenate(audio_data)\n",
    "    print(\"Recording stopped.\")\n",
    "    \n",
    "    # Create a temporary WAV file to save the recorded audio\n",
    "    with tempfile.NamedTemporaryFile(suffix=\".wav\", delete=False) as temp_file:\n",
    "        wf = wave.open(temp_file.name, 'wb')\n",
    "        wf.setnchannels(1)\n",
    "        wf.setsampwidth(2)\n",
    "        wf.setframerate(sample_rate)\n",
    "        wf.writeframes((audio_data * np.iinfo(np.int16).max).astype(np.int16).tobytes())\n",
    "        wf.close()\n",
    "\n",
    "        return temp_file.name, sample_rate"
   ]
  },
  {
   "cell_type": "code",
   "execution_count": 6,
   "id": "781ac54a",
   "metadata": {},
   "outputs": [],
   "source": [
    "model_size = \"medium\"  # medium is better \n",
    "model = WhisperModel(model_size, device=\"auto\", compute_type=\"float16\")"
   ]
  },
  {
   "cell_type": "code",
   "execution_count": 26,
   "id": "176ca944",
   "metadata": {},
   "outputs": [
    {
     "name": "stdout",
     "output_type": "stream",
     "text": [
      "Recording... Press any key to stop.\n"
     ]
    },
    {
     "ename": "PortAudioError",
     "evalue": "Error querying device -1",
     "output_type": "error",
     "traceback": [
      "\u001b[0;31m---------------------------------------------------------------------------\u001b[0m",
      "\u001b[0;31mPortAudioError\u001b[0m                            Traceback (most recent call last)",
      "Cell \u001b[0;32mIn[26], line 1\u001b[0m\n\u001b[0;32m----> 1\u001b[0m audio_path, sample_rate \u001b[38;5;241m=\u001b[39m record_audio() \u001b[38;5;66;03m# records audio from mic\u001b[39;00m\n\u001b[1;32m      2\u001b[0m beam_size \u001b[38;5;241m=\u001b[39m \u001b[38;5;241m5\u001b[39m  \u001b[38;5;66;03m# You can adjust the beam size as needed\u001b[39;00m\n\u001b[1;32m      3\u001b[0m segments, info \u001b[38;5;241m=\u001b[39m model\u001b[38;5;241m.\u001b[39mtranscribe(audio_path, beam_size\u001b[38;5;241m=\u001b[39mbeam_size)\n",
      "Cell \u001b[0;32mIn[5], line 12\u001b[0m, in \u001b[0;36mrecord_audio\u001b[0;34m(sample_rate)\u001b[0m\n\u001b[1;32m      9\u001b[0m     audio_data\u001b[38;5;241m.\u001b[39mappend(indata\u001b[38;5;241m.\u001b[39mcopy())\n\u001b[1;32m     11\u001b[0m \u001b[38;5;66;03m# Start the audio stream\u001b[39;00m\n\u001b[0;32m---> 12\u001b[0m \u001b[38;5;28;01mwith\u001b[39;00m sd\u001b[38;5;241m.\u001b[39mInputStream(samplerate\u001b[38;5;241m=\u001b[39msample_rate, channels\u001b[38;5;241m=\u001b[39m\u001b[38;5;241m1\u001b[39m, dtype\u001b[38;5;241m=\u001b[39m\u001b[38;5;124m'\u001b[39m\u001b[38;5;124mfloat32\u001b[39m\u001b[38;5;124m'\u001b[39m, callback\u001b[38;5;241m=\u001b[39mcallback):\n\u001b[1;32m     13\u001b[0m     keyboard\u001b[38;5;241m.\u001b[39mwait(\u001b[38;5;124m'\u001b[39m\u001b[38;5;124menter\u001b[39m\u001b[38;5;124m'\u001b[39m)  \u001b[38;5;66;03m# Wait for any key press to stop recording\u001b[39;00m\n\u001b[1;32m     15\u001b[0m \u001b[38;5;66;03m# Concatenate recorded audio data\u001b[39;00m\n",
      "File \u001b[0;32m~/anaconda3/lib/python3.11/site-packages/sounddevice.py:1421\u001b[0m, in \u001b[0;36mInputStream.__init__\u001b[0;34m(self, samplerate, blocksize, device, channels, dtype, latency, extra_settings, callback, finished_callback, clip_off, dither_off, never_drop_input, prime_output_buffers_using_stream_callback)\u001b[0m\n\u001b[1;32m   1391\u001b[0m \u001b[38;5;28;01mdef\u001b[39;00m \u001b[38;5;21m__init__\u001b[39m(\u001b[38;5;28mself\u001b[39m, samplerate\u001b[38;5;241m=\u001b[39m\u001b[38;5;28;01mNone\u001b[39;00m, blocksize\u001b[38;5;241m=\u001b[39m\u001b[38;5;28;01mNone\u001b[39;00m,\n\u001b[1;32m   1392\u001b[0m              device\u001b[38;5;241m=\u001b[39m\u001b[38;5;28;01mNone\u001b[39;00m, channels\u001b[38;5;241m=\u001b[39m\u001b[38;5;28;01mNone\u001b[39;00m, dtype\u001b[38;5;241m=\u001b[39m\u001b[38;5;28;01mNone\u001b[39;00m, latency\u001b[38;5;241m=\u001b[39m\u001b[38;5;28;01mNone\u001b[39;00m,\n\u001b[1;32m   1393\u001b[0m              extra_settings\u001b[38;5;241m=\u001b[39m\u001b[38;5;28;01mNone\u001b[39;00m, callback\u001b[38;5;241m=\u001b[39m\u001b[38;5;28;01mNone\u001b[39;00m, finished_callback\u001b[38;5;241m=\u001b[39m\u001b[38;5;28;01mNone\u001b[39;00m,\n\u001b[1;32m   1394\u001b[0m              clip_off\u001b[38;5;241m=\u001b[39m\u001b[38;5;28;01mNone\u001b[39;00m, dither_off\u001b[38;5;241m=\u001b[39m\u001b[38;5;28;01mNone\u001b[39;00m, never_drop_input\u001b[38;5;241m=\u001b[39m\u001b[38;5;28;01mNone\u001b[39;00m,\n\u001b[1;32m   1395\u001b[0m              prime_output_buffers_using_stream_callback\u001b[38;5;241m=\u001b[39m\u001b[38;5;28;01mNone\u001b[39;00m):\n\u001b[1;32m   1396\u001b[0m \u001b[38;5;250m    \u001b[39m\u001b[38;5;124;03m\"\"\"PortAudio input stream (using NumPy).\u001b[39;00m\n\u001b[1;32m   1397\u001b[0m \n\u001b[1;32m   1398\u001b[0m \u001b[38;5;124;03m    This has the same methods and attributes as `Stream`, except\u001b[39;00m\n\u001b[0;32m   (...)\u001b[0m\n\u001b[1;32m   1419\u001b[0m \n\u001b[1;32m   1420\u001b[0m \u001b[38;5;124;03m    \"\"\"\u001b[39;00m\n\u001b[0;32m-> 1421\u001b[0m     _StreamBase\u001b[38;5;241m.\u001b[39m\u001b[38;5;21m__init__\u001b[39m(\u001b[38;5;28mself\u001b[39m, kind\u001b[38;5;241m=\u001b[39m\u001b[38;5;124m'\u001b[39m\u001b[38;5;124minput\u001b[39m\u001b[38;5;124m'\u001b[39m, wrap_callback\u001b[38;5;241m=\u001b[39m\u001b[38;5;124m'\u001b[39m\u001b[38;5;124marray\u001b[39m\u001b[38;5;124m'\u001b[39m,\n\u001b[1;32m   1422\u001b[0m                          \u001b[38;5;241m*\u001b[39m\u001b[38;5;241m*\u001b[39m_remove_self(\u001b[38;5;28mlocals\u001b[39m()))\n",
      "File \u001b[0;32m~/anaconda3/lib/python3.11/site-packages/sounddevice.py:817\u001b[0m, in \u001b[0;36m_StreamBase.__init__\u001b[0;34m(self, kind, samplerate, blocksize, device, channels, dtype, latency, extra_settings, callback, finished_callback, clip_off, dither_off, never_drop_input, prime_output_buffers_using_stream_callback, userdata, wrap_callback)\u001b[0m\n\u001b[1;32m    814\u001b[0m         samplerate \u001b[38;5;241m=\u001b[39m isamplerate\n\u001b[1;32m    815\u001b[0m \u001b[38;5;28;01melse\u001b[39;00m:\n\u001b[1;32m    816\u001b[0m     parameters, \u001b[38;5;28mself\u001b[39m\u001b[38;5;241m.\u001b[39m_dtype, \u001b[38;5;28mself\u001b[39m\u001b[38;5;241m.\u001b[39m_samplesize, samplerate \u001b[38;5;241m=\u001b[39m \\\n\u001b[0;32m--> 817\u001b[0m         _get_stream_parameters(kind, device, channels, dtype, latency,\n\u001b[1;32m    818\u001b[0m                                extra_settings, samplerate)\n\u001b[1;32m    819\u001b[0m     \u001b[38;5;28mself\u001b[39m\u001b[38;5;241m.\u001b[39m_device \u001b[38;5;241m=\u001b[39m parameters\u001b[38;5;241m.\u001b[39mdevice\n\u001b[1;32m    820\u001b[0m     \u001b[38;5;28mself\u001b[39m\u001b[38;5;241m.\u001b[39m_channels \u001b[38;5;241m=\u001b[39m parameters\u001b[38;5;241m.\u001b[39mchannelCount\n",
      "File \u001b[0;32m~/anaconda3/lib/python3.11/site-packages/sounddevice.py:2660\u001b[0m, in \u001b[0;36m_get_stream_parameters\u001b[0;34m(kind, device, channels, dtype, latency, extra_settings, samplerate)\u001b[0m\n\u001b[1;32m   2657\u001b[0m     samplerate \u001b[38;5;241m=\u001b[39m default\u001b[38;5;241m.\u001b[39msamplerate\n\u001b[1;32m   2659\u001b[0m device \u001b[38;5;241m=\u001b[39m _get_device_id(device, kind, raise_on_error\u001b[38;5;241m=\u001b[39m\u001b[38;5;28;01mTrue\u001b[39;00m)\n\u001b[0;32m-> 2660\u001b[0m info \u001b[38;5;241m=\u001b[39m query_devices(device)\n\u001b[1;32m   2661\u001b[0m \u001b[38;5;28;01mif\u001b[39;00m channels \u001b[38;5;129;01mis\u001b[39;00m \u001b[38;5;28;01mNone\u001b[39;00m:\n\u001b[1;32m   2662\u001b[0m     channels \u001b[38;5;241m=\u001b[39m info[\u001b[38;5;124m'\u001b[39m\u001b[38;5;124mmax_\u001b[39m\u001b[38;5;124m'\u001b[39m \u001b[38;5;241m+\u001b[39m kind \u001b[38;5;241m+\u001b[39m \u001b[38;5;124m'\u001b[39m\u001b[38;5;124m_channels\u001b[39m\u001b[38;5;124m'\u001b[39m]\n",
      "File \u001b[0;32m~/anaconda3/lib/python3.11/site-packages/sounddevice.py:569\u001b[0m, in \u001b[0;36mquery_devices\u001b[0;34m(device, kind)\u001b[0m\n\u001b[1;32m    567\u001b[0m info \u001b[38;5;241m=\u001b[39m _lib\u001b[38;5;241m.\u001b[39mPa_GetDeviceInfo(device)\n\u001b[1;32m    568\u001b[0m \u001b[38;5;28;01mif\u001b[39;00m \u001b[38;5;129;01mnot\u001b[39;00m info:\n\u001b[0;32m--> 569\u001b[0m     \u001b[38;5;28;01mraise\u001b[39;00m PortAudioError(\u001b[38;5;124mf\u001b[39m\u001b[38;5;124m'\u001b[39m\u001b[38;5;124mError querying device \u001b[39m\u001b[38;5;132;01m{\u001b[39;00mdevice\u001b[38;5;132;01m}\u001b[39;00m\u001b[38;5;124m'\u001b[39m)\n\u001b[1;32m    570\u001b[0m \u001b[38;5;28;01massert\u001b[39;00m info\u001b[38;5;241m.\u001b[39mstructVersion \u001b[38;5;241m==\u001b[39m \u001b[38;5;241m2\u001b[39m\n\u001b[1;32m    571\u001b[0m name_bytes \u001b[38;5;241m=\u001b[39m _ffi\u001b[38;5;241m.\u001b[39mstring(info\u001b[38;5;241m.\u001b[39mname)\n",
      "\u001b[0;31mPortAudioError\u001b[0m: Error querying device -1"
     ]
    }
   ],
   "source": [
    "audio_path, sample_rate = record_audio() # records audio from mic\n",
    "beam_size = 5  # You can adjust the beam size as needed\n",
    "segments, info = model.transcribe(audio_path, beam_size=beam_size)\n",
    "for segment in segments:\n",
    "    print(\"[%.2fs -> %.2fs] %s\" % (segment.start, segment.end, segment.text))"
   ]
  },
  {
   "cell_type": "code",
   "execution_count": null,
   "id": "1d1b78c2-4b1e-4ce5-80ff-0323672430a2",
   "metadata": {},
   "outputs": [],
   "source": []
  }
 ],
 "metadata": {
  "kernelspec": {
   "display_name": "Python 3 (ipykernel)",
   "language": "python",
   "name": "python3"
  },
  "language_info": {
   "codemirror_mode": {
    "name": "ipython",
    "version": 3
   },
   "file_extension": ".py",
   "mimetype": "text/x-python",
   "name": "python",
   "nbconvert_exporter": "python",
   "pygments_lexer": "ipython3",
   "version": "3.10.14"
  }
 },
 "nbformat": 4,
 "nbformat_minor": 5
}
