{
 "cells": [
  {
   "cell_type": "code",
   "execution_count": 1,
   "id": "2178504a",
   "metadata": {},
   "outputs": [],
   "source": [
    "# pip install faster-whisper"
   ]
  },
  {
   "cell_type": "code",
   "execution_count": 2,
   "id": "c6a92598",
   "metadata": {},
   "outputs": [],
   "source": [
    "# pip install keyboard"
   ]
  },
  {
   "cell_type": "code",
   "execution_count": 1,
   "id": "5ab79914",
   "metadata": {},
   "outputs": [],
   "source": [
    "import sounddevice as sd\n",
    "import numpy as np\n",
    "import keyboard\n",
    "import wave\n",
    "import tempfile\n",
    "from faster_whisper import WhisperModel"
   ]
  },
  {
   "cell_type": "code",
   "execution_count": 2,
   "id": "5a2401cf",
   "metadata": {},
   "outputs": [],
   "source": [
    "# def record_audio(sample_rate=16000):\n",
    "#     print(\"Recording... Press any key to stop.\")\n",
    "#     audio_data = []\n",
    "    \n",
    "#     # Callback function to append audio data when available\n",
    "#     def callback(indata, frames, time, status):\n",
    "#         if status:\n",
    "#             print(status)\n",
    "#         audio_data.append(indata.copy())\n",
    "    \n",
    "#     # Start the audio stream\n",
    "#     with sd.InputStream(samplerate=sample_rate, channels=1, dtype='float32', callback=callback):\n",
    "#         keyboard.wait('enter')  # Wait for any key press to stop recording\n",
    "    \n",
    "#     # Concatenate recorded audio data\n",
    "#     audio_data = np.concatenate(audio_data)\n",
    "#     print(\"Recording stopped.\")\n",
    "    \n",
    "#     # Create a temporary WAV file to save the recorded audio\n",
    "#     with tempfile.NamedTemporaryFile(suffix=\".wav\", delete=False) as temp_file:\n",
    "#         wf = wave.open(temp_file.name, 'wb')\n",
    "#         wf.setnchannels(1)\n",
    "#         wf.setsampwidth(2)\n",
    "#         wf.setframerate(sample_rate)\n",
    "#         wf.writeframes((audio_data * np.iinfo(np.int16).max).astype(np.int16).tobytes())\n",
    "#         wf.close()\n",
    "\n",
    "#         return temp_file.name, sample_rate"
   ]
  },
  {
   "cell_type": "code",
   "execution_count": 3,
   "id": "781ac54a",
   "metadata": {},
   "outputs": [],
   "source": [
    "model_size = \"medium\"  # medium is better \n",
    "model = WhisperModel(model_size, device=\"cpu\", compute_type=\"float32\")"
   ]
  },
  {
   "cell_type": "code",
   "execution_count": 15,
   "id": "176ca944",
   "metadata": {},
   "outputs": [],
   "source": [
    "audio_path=\"parler_tts_out.wav\"\n",
    "beam_size = 5  # You can adjust the beam size as needed\n",
    "segments, info = model.transcribe(audio_path, beam_size=beam_size)"
   ]
  },
  {
   "cell_type": "code",
   "execution_count": 16,
   "id": "46148929",
   "metadata": {},
   "outputs": [
    {
     "name": "stdout",
     "output_type": "stream",
     "text": [
      " The trip is going great. The family has been on some amazing adventures together, from camping and renovating their home to participating in a community clean-up day and attending a school talent show. They've also been making memories together through games, gardening, and a family reunion. It seems like they're having a wonderful time bonding and creating new experiences together.\n"
     ]
    }
   ],
   "source": [
    "temp = \"\"\n",
    "for segment in segments:\n",
    "    temp += segment.text\n",
    "    # print(\"[%.2fs -> %.2fs] %s\" % (segment.start, segment.end, segment.text))\n",
    "print(temp)"
   ]
  },
  {
   "cell_type": "code",
   "execution_count": 10,
   "id": "ab52d565",
   "metadata": {},
   "outputs": [
    {
     "data": {
      "text/plain": [
       "''"
      ]
     },
     "execution_count": 10,
     "metadata": {},
     "output_type": "execute_result"
    }
   ],
   "source": [
    "temp"
   ]
  }
 ],
 "metadata": {
  "kernelspec": {
   "display_name": "Python 3 (ipykernel)",
   "language": "python",
   "name": "python3"
  },
  "language_info": {
   "codemirror_mode": {
    "name": "ipython",
    "version": 3
   },
   "file_extension": ".py",
   "mimetype": "text/x-python",
   "name": "python",
   "nbconvert_exporter": "python",
   "pygments_lexer": "ipython3",
   "version": "3.10.14"
  }
 },
 "nbformat": 4,
 "nbformat_minor": 5
}
